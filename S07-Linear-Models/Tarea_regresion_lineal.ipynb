{
  "nbformat": 4,
  "nbformat_minor": 0,
  "metadata": {
    "colab": {
      "provenance": [],
      "include_colab_link": true
    },
    "kernelspec": {
      "name": "python3",
      "display_name": "Python 3"
    },
    "language_info": {
      "name": "python"
    }
  },
  "cells": [
    {
      "cell_type": "markdown",
      "metadata": {
        "id": "view-in-github",
        "colab_type": "text"
      },
      "source": [
        "<a href=\"https://colab.research.google.com/github/VCornejo10/Tarea_Regresion_Lineal/blob/main/S07-Linear-Models/Tarea_regresion_lineal.ipynb\" target=\"_parent\"><img src=\"https://colab.research.google.com/assets/colab-badge.svg\" alt=\"Open In Colab\"/></a>"
      ]
    },
    {
      "cell_type": "markdown",
      "metadata": {
        "id": "L02NOLRj5Wql"
      },
      "source": [
        "\n",
        "# Regresion Lineal aplicada a datos de automóviles\n",
        "\n",
        "En esta tarea usted debe investigar acerca del conjunto de datos [auto mpg](https://seaborn.pydata.org/examples/scatter_bubbles.html) perteneciente a la libreria [seaborn](https://seaborn.pydata.org/)\n",
        "\n",
        "**Objetivo**: Estimar el rendimiento promedio de automoviles usando regresión lineal"
      ]
    },
    {
      "cell_type": "markdown",
      "metadata": {
        "id": "uoe9ONRK4CBg"
      },
      "source": [
        "1) (1 punto) Establecer una visualización de los datos a través de un [Gráfico de dispersión](https://seaborn.pydata.org/tutorial/axis_grids.html)"
      ]
    },
    {
      "cell_type": "code",
      "metadata": {
        "id": "tUkkTIub4KI1"
      },
      "source": [
        "import seaborn as sns\n",
        "import matplotlib.pyplot as plt\n",
        "import pandas as pd\n",
        "import numpy as np\n",
        "\n",
        "from sklearn.linear_model import LinearRegression\n",
        "from sklearn.model_selection import train_test_split\n",
        "from sklearn.metrics import mean_squared_error, r2_score\n",
        "\n",
        "# Cargar dataset auto-mpg\n",
        "df = sns.load_dataset(\"mpg\")\n",
        "\n",
        "# Mostrar primeras filas\n",
        "df.head()\n",
        "\n",
        "# Verificar valores nulos\n",
        "df.isnull().sum()\n",
        "\n",
        "# Eliminar filas con valores faltantes\n",
        "df.dropna(inplace=True)\n",
        "\n",
        "# Confirmar limpieza\n",
        "df.isnull().sum()\n",
        "\n",
        "# Relación entre peso del auto y rendimiento\n",
        "sns.scatterplot(x='weight', y='mpg', data=df)\n",
        "plt.title(\"Relación entre peso y rendimiento (mpg)\")\n",
        "plt.xlabel(\"Peso (weight)\")\n",
        "plt.ylabel(\"Millas por galón (mpg)\")\n",
        "plt.show()\n",
        "\n"
      ],
      "execution_count": null,
      "outputs": []
    },
    {
      "cell_type": "markdown",
      "metadata": {
        "id": "ea2rRqhU4Kac"
      },
      "source": [
        "2) (1 punto) Investigar e incluir un grafico de correlacion ([Correlation Plot](https://seaborn.pydata.org/examples/many_pairwise_correlations.html)) para visualizar la dependencia entre los datos"
      ]
    },
    {
      "cell_type": "code",
      "metadata": {
        "id": "0ZSyK_AO5Uom"
      },
      "source": [],
      "execution_count": null,
      "outputs": []
    },
    {
      "cell_type": "markdown",
      "metadata": {
        "id": "7lq02OwQ5qvF"
      },
      "source": [
        "3) (1 punto) Construir y entrenar un modelo de regresion lineal\n"
      ]
    },
    {
      "cell_type": "code",
      "metadata": {
        "id": "NhLYjWLf5vKe"
      },
      "source": [],
      "execution_count": null,
      "outputs": []
    },
    {
      "cell_type": "markdown",
      "metadata": {
        "id": "Z2imQxHx5vgv"
      },
      "source": [
        "4) (1 punto) Mostrar estadistiscas de desempeño del modelo (investigar)"
      ]
    },
    {
      "cell_type": "code",
      "metadata": {
        "id": "R6UyJKTt5yYR"
      },
      "source": [],
      "execution_count": null,
      "outputs": []
    },
    {
      "cell_type": "markdown",
      "metadata": {
        "id": "xLl6JpXU6anE"
      },
      "source": [
        "5) (1 punto) Mostrar [graficamente la lineas rectas](https://seaborn.pydata.org/tutorial/regression.html) en un grafico de dispersión para el par de variables que presentan la mayor correlacion. esta informacion la obtiene del correlation plot. realizar un grafico de dispersion con las variables mas correlacionadas.\n"
      ]
    },
    {
      "cell_type": "code",
      "metadata": {
        "id": "uVmESLYF64AZ"
      },
      "source": [],
      "execution_count": null,
      "outputs": []
    },
    {
      "cell_type": "markdown",
      "source": [
        "6) (1 punto) [Guardar el Jupyter notebook resultante en su cuenta propia de Github ](https://bebi103a.github.io/lessons/02/git_with_colab.html) y compartir el enlace en la pagina de la tarea en Educandus."
      ],
      "metadata": {
        "id": "SE4pL2XeKSIv"
      }
    }
  ]
}